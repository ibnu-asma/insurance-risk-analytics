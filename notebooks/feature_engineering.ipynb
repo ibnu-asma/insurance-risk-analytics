{
 "cells": [
  {
   "cell_type": "markdown",
   "metadata": {},
   "source": [
    "# Feature Engineering & Preprocessing\n",
    "\n",
    "Enhance and preprocess `MachineLearningRating_v3.csv` for machine learning tasks.\n",
    "\n",
    "**Steps**:\n",
    "- Engineer features (e.g., `LossRatio`, time-based features).\n",
    "- Encode categorical variables.\n",
    "- Handle missing values and outliers.\n",
    "- Visualize engineered features."
   ]
  },
  {
   "cell_type": "code",
   "execution_count": 1,
   "metadata": {},
   "outputs": [],
   "source": [
    "import os\n",
    "import sys\n",
    "sys.path.append(os.path.abspath('..'))  # Adjust path to include the src directory\n",
    "\n",
    "\n",
    "import pandas as pd\n",
    "import matplotlib.pyplot as plt\n",
    "import seaborn as sns\n",
    "from src.data_preprocessor import load_and_preprocess\n",
    "from src.utils import save_plot\n",
    "\n",
    "%matplotlib inline\n",
    "plt.style.use('seaborn-v0_8')\n",
    "pd.set_option('display.max_columns', 60)\n",
    "pd.set_option('display.max_rows', 100)\n",
    "\n",
    "# Load and preprocess data\n",
    "df, scaler = load_and_preprocess('../data/MachineLearningRating_v3.csv')"
   ]
  },
  {
   "cell_type": "markdown",
   "metadata": {},
   "source": [
    "## Feature Engineering Summary"
   ]
  },
  {
   "cell_type": "code",
   "execution_count": 2,
   "metadata": {},
   "outputs": [
    {
     "name": "stdout",
     "output_type": "stream",
     "text": [
      "Data Shape after Preprocessing: (1000098, 71)\n"
     ]
    },
    {
     "ename": "KeyboardInterrupt",
     "evalue": "",
     "output_type": "error",
     "traceback": [
      "\u001b[31m---------------------------------------------------------------------------\u001b[39m",
      "\u001b[31mKeyboardInterrupt\u001b[39m                         Traceback (most recent call last)",
      "\u001b[36mCell\u001b[39m\u001b[36m \u001b[39m\u001b[32mIn[2]\u001b[39m\u001b[32m, line 2\u001b[39m\n\u001b[32m      1\u001b[39m \u001b[38;5;28mprint\u001b[39m(\u001b[33m\"\u001b[39m\u001b[33mData Shape after Preprocessing:\u001b[39m\u001b[33m\"\u001b[39m, df.shape)\n\u001b[32m----> \u001b[39m\u001b[32m2\u001b[39m \u001b[38;5;28mprint\u001b[39m(\u001b[33m\"\u001b[39m\u001b[38;5;130;01m\\n\u001b[39;00m\u001b[33mNew Features:\u001b[39m\u001b[38;5;130;01m\\n\u001b[39;00m\u001b[33m\"\u001b[39m, [col \u001b[38;5;28;01mfor\u001b[39;00m col \u001b[38;5;129;01min\u001b[39;00m df.columns \u001b[38;5;28;01mif\u001b[39;00m col \u001b[38;5;129;01mnot\u001b[39;00m \u001b[38;5;129;01min\u001b[39;00m \u001b[43mpd\u001b[49m\u001b[43m.\u001b[49m\u001b[43mread_csv\u001b[49m\u001b[43m(\u001b[49m\u001b[33;43m'\u001b[39;49m\u001b[33;43m../data/MachineLearningRating_v3.csv\u001b[39;49m\u001b[33;43m'\u001b[39;49m\u001b[43m,\u001b[49m\u001b[43m \u001b[49m\u001b[43mlow_memory\u001b[49m\u001b[43m=\u001b[49m\u001b[38;5;28;43;01mFalse\u001b[39;49;00m\u001b[43m)\u001b[49m.columns])\n\u001b[32m      3\u001b[39m \u001b[38;5;28mprint\u001b[39m(\u001b[33m\"\u001b[39m\u001b[38;5;130;01m\\n\u001b[39;00m\u001b[33mDescriptive Statistics of Engineered Features:\u001b[39m\u001b[38;5;130;01m\\n\u001b[39;00m\u001b[33m\"\u001b[39m, df[[\u001b[33m'\u001b[39m\u001b[33mLossRatio\u001b[39m\u001b[33m'\u001b[39m, \u001b[33m'\u001b[39m\u001b[33mTransactionYear\u001b[39m\u001b[33m'\u001b[39m, \u001b[33m'\u001b[39m\u001b[33mHasClaim\u001b[39m\u001b[33m'\u001b[39m, \u001b[33m'\u001b[39m\u001b[33mAvgClaimsByMake\u001b[39m\u001b[33m'\u001b[39m]].describe())\n",
      "\u001b[36mFile \u001b[39m\u001b[32mc:\\Users\\Cyber Defense\\Desktop\\week2\\fintech-reviews-analytics\\venv\\Lib\\site-packages\\pandas\\io\\parsers\\readers.py:1026\u001b[39m, in \u001b[36mread_csv\u001b[39m\u001b[34m(filepath_or_buffer, sep, delimiter, header, names, index_col, usecols, dtype, engine, converters, true_values, false_values, skipinitialspace, skiprows, skipfooter, nrows, na_values, keep_default_na, na_filter, verbose, skip_blank_lines, parse_dates, infer_datetime_format, keep_date_col, date_parser, date_format, dayfirst, cache_dates, iterator, chunksize, compression, thousands, decimal, lineterminator, quotechar, quoting, doublequote, escapechar, comment, encoding, encoding_errors, dialect, on_bad_lines, delim_whitespace, low_memory, memory_map, float_precision, storage_options, dtype_backend)\u001b[39m\n\u001b[32m   1013\u001b[39m kwds_defaults = _refine_defaults_read(\n\u001b[32m   1014\u001b[39m     dialect,\n\u001b[32m   1015\u001b[39m     delimiter,\n\u001b[32m   (...)\u001b[39m\u001b[32m   1022\u001b[39m     dtype_backend=dtype_backend,\n\u001b[32m   1023\u001b[39m )\n\u001b[32m   1024\u001b[39m kwds.update(kwds_defaults)\n\u001b[32m-> \u001b[39m\u001b[32m1026\u001b[39m \u001b[38;5;28;01mreturn\u001b[39;00m \u001b[43m_read\u001b[49m\u001b[43m(\u001b[49m\u001b[43mfilepath_or_buffer\u001b[49m\u001b[43m,\u001b[49m\u001b[43m \u001b[49m\u001b[43mkwds\u001b[49m\u001b[43m)\u001b[49m\n",
      "\u001b[36mFile \u001b[39m\u001b[32mc:\\Users\\Cyber Defense\\Desktop\\week2\\fintech-reviews-analytics\\venv\\Lib\\site-packages\\pandas\\io\\parsers\\readers.py:626\u001b[39m, in \u001b[36m_read\u001b[39m\u001b[34m(filepath_or_buffer, kwds)\u001b[39m\n\u001b[32m    623\u001b[39m     \u001b[38;5;28;01mreturn\u001b[39;00m parser\n\u001b[32m    625\u001b[39m \u001b[38;5;28;01mwith\u001b[39;00m parser:\n\u001b[32m--> \u001b[39m\u001b[32m626\u001b[39m     \u001b[38;5;28;01mreturn\u001b[39;00m \u001b[43mparser\u001b[49m\u001b[43m.\u001b[49m\u001b[43mread\u001b[49m\u001b[43m(\u001b[49m\u001b[43mnrows\u001b[49m\u001b[43m)\u001b[49m\n",
      "\u001b[36mFile \u001b[39m\u001b[32mc:\\Users\\Cyber Defense\\Desktop\\week2\\fintech-reviews-analytics\\venv\\Lib\\site-packages\\pandas\\io\\parsers\\readers.py:1923\u001b[39m, in \u001b[36mTextFileReader.read\u001b[39m\u001b[34m(self, nrows)\u001b[39m\n\u001b[32m   1916\u001b[39m nrows = validate_integer(\u001b[33m\"\u001b[39m\u001b[33mnrows\u001b[39m\u001b[33m\"\u001b[39m, nrows)\n\u001b[32m   1917\u001b[39m \u001b[38;5;28;01mtry\u001b[39;00m:\n\u001b[32m   1918\u001b[39m     \u001b[38;5;66;03m# error: \"ParserBase\" has no attribute \"read\"\u001b[39;00m\n\u001b[32m   1919\u001b[39m     (\n\u001b[32m   1920\u001b[39m         index,\n\u001b[32m   1921\u001b[39m         columns,\n\u001b[32m   1922\u001b[39m         col_dict,\n\u001b[32m-> \u001b[39m\u001b[32m1923\u001b[39m     ) = \u001b[38;5;28;43mself\u001b[39;49m\u001b[43m.\u001b[49m\u001b[43m_engine\u001b[49m\u001b[43m.\u001b[49m\u001b[43mread\u001b[49m\u001b[43m(\u001b[49m\u001b[43m  \u001b[49m\u001b[38;5;66;43;03m# type: ignore[attr-defined]\u001b[39;49;00m\n\u001b[32m   1924\u001b[39m \u001b[43m        \u001b[49m\u001b[43mnrows\u001b[49m\n\u001b[32m   1925\u001b[39m \u001b[43m    \u001b[49m\u001b[43m)\u001b[49m\n\u001b[32m   1926\u001b[39m \u001b[38;5;28;01mexcept\u001b[39;00m \u001b[38;5;167;01mException\u001b[39;00m:\n\u001b[32m   1927\u001b[39m     \u001b[38;5;28mself\u001b[39m.close()\n",
      "\u001b[36mFile \u001b[39m\u001b[32mc:\\Users\\Cyber Defense\\Desktop\\week2\\fintech-reviews-analytics\\venv\\Lib\\site-packages\\pandas\\io\\parsers\\c_parser_wrapper.py:239\u001b[39m, in \u001b[36mCParserWrapper.read\u001b[39m\u001b[34m(self, nrows)\u001b[39m\n\u001b[32m    236\u001b[39m         data = _concatenate_chunks(chunks)\n\u001b[32m    238\u001b[39m     \u001b[38;5;28;01melse\u001b[39;00m:\n\u001b[32m--> \u001b[39m\u001b[32m239\u001b[39m         data = \u001b[38;5;28;43mself\u001b[39;49m\u001b[43m.\u001b[49m\u001b[43m_reader\u001b[49m\u001b[43m.\u001b[49m\u001b[43mread\u001b[49m\u001b[43m(\u001b[49m\u001b[43mnrows\u001b[49m\u001b[43m)\u001b[49m\n\u001b[32m    240\u001b[39m \u001b[38;5;28;01mexcept\u001b[39;00m \u001b[38;5;167;01mStopIteration\u001b[39;00m:\n\u001b[32m    241\u001b[39m     \u001b[38;5;28;01mif\u001b[39;00m \u001b[38;5;28mself\u001b[39m._first_chunk:\n",
      "\u001b[36mFile \u001b[39m\u001b[32mpandas/_libs/parsers.pyx:820\u001b[39m, in \u001b[36mpandas._libs.parsers.TextReader.read\u001b[39m\u001b[34m()\u001b[39m\n",
      "\u001b[36mFile \u001b[39m\u001b[32mpandas/_libs/parsers.pyx:914\u001b[39m, in \u001b[36mpandas._libs.parsers.TextReader._read_rows\u001b[39m\u001b[34m()\u001b[39m\n",
      "\u001b[36mFile \u001b[39m\u001b[32mpandas/_libs/parsers.pyx:891\u001b[39m, in \u001b[36mpandas._libs.parsers.TextReader._check_tokenize_status\u001b[39m\u001b[34m()\u001b[39m\n",
      "\u001b[36mFile \u001b[39m\u001b[32mpandas/_libs/parsers.pyx:2053\u001b[39m, in \u001b[36mpandas._libs.parsers.raise_parser_error\u001b[39m\u001b[34m()\u001b[39m\n",
      "\u001b[36mFile \u001b[39m\u001b[32m<frozen codecs>:331\u001b[39m, in \u001b[36mgetstate\u001b[39m\u001b[34m(self)\u001b[39m\n",
      "\u001b[31mKeyboardInterrupt\u001b[39m: "
     ]
    }
   ],
   "source": [
    "print(\"Data Shape after Preprocessing:\", df.shape)\n",
    "print(\"\\nNew Features:\\n\", [col for col in df.columns if col not in pd.read_csv('../data/MachineLearningRating_v3.csv', low_memory=False).columns])\n",
    "print(\"\\nDescriptive Statistics of Engineered Features:\\n\", df[['LossRatio', 'TransactionYear', 'HasClaim', 'AvgClaimsByMake']].describe())"
   ]
  },
  {
   "cell_type": "markdown",
   "metadata": {},
   "source": [
    "## Visualization"
   ]
  },
  {
   "cell_type": "code",
   "execution_count": 3,
   "metadata": {},
   "outputs": [
    {
     "name": "stderr",
     "output_type": "stream",
     "text": [
      "C:\\Users\\Cyber Defense\\AppData\\Local\\Temp\\ipykernel_2096\\1871362939.py:11: FutureWarning: \n",
      "\n",
      "Passing `palette` without assigning `hue` is deprecated and will be removed in v0.14.0. Assign the `x` variable to `hue` and set `legend=False` for the same effect.\n",
      "\n",
      "  sns.boxplot(data=df, x='HasClaim', y='TotalClaims', palette='Pastel1')\n"
     ]
    }
   ],
   "source": [
    "# Histogram: LossRatio\n",
    "plt.figure(figsize=(10, 6))\n",
    "sns.histplot(df['LossRatio'].dropna(), bins=50, color='teal')\n",
    "plt.title('Distribution of Loss Ratio')\n",
    "plt.xlabel('Loss Ratio')\n",
    "plt.ylabel('Frequency')\n",
    "save_plot('loss_ratio_hist.png')\n",
    "\n",
    "# Box plot: TotalClaims by HasClaim\n",
    "plt.figure(figsize=(10, 6))\n",
    "sns.boxplot(data=df, x='HasClaim', y='TotalClaims', palette='Pastel1')\n",
    "plt.title('Total Claims by Claim Status')\n",
    "save_plot('total_claims_by_hasclaim.png')"
   ]
  },
  {
   "cell_type": "markdown",
   "metadata": {},
   "source": [
    "## Data Quality Check"
   ]
  },
  {
   "cell_type": "code",
   "execution_count": 4,
   "metadata": {},
   "outputs": [
    {
     "name": "stdout",
     "output_type": "stream",
     "text": [
      "\n",
      "Missing Values after Preprocessing:\n",
      " UnderwrittenCoverID                    0\n",
      "PolicyID                               0\n",
      "TransactionMonth                       0\n",
      "IsVATRegistered                        0\n",
      "Citizenship                            0\n",
      "LegalType                              0\n",
      "Title                                  0\n",
      "Language                               0\n",
      "Bank                              145961\n",
      "AccountType                        40232\n",
      "MaritalStatus                     994467\n",
      "Country                                0\n",
      "PostalCode                             0\n",
      "MainCrestaZone                         0\n",
      "SubCrestaZone                          0\n",
      "ItemType                               0\n",
      "mmcode                               552\n",
      "RegistrationYear                       0\n",
      "make                                 552\n",
      "Model                                552\n",
      "Cylinders                            552\n",
      "cubiccapacity                        552\n",
      "kilowatts                            552\n",
      "bodytype                             552\n",
      "NumberOfDoors                        552\n",
      "VehicleIntroDate                     552\n",
      "CustomValueEstimate                    0\n",
      "AlarmImmobiliser                       0\n",
      "TrackingDevice                         0\n",
      "CapitalOutstanding                     2\n",
      "NewVehicle                        153295\n",
      "WrittenOff                        641901\n",
      "Rebuilt                           641901\n",
      "Converted                         641901\n",
      "NumberOfVehiclesInFleet          1000098\n",
      "SumInsured                             0\n",
      "TermFrequency                          0\n",
      "CalculatedPremiumPerTerm               0\n",
      "ExcessSelected                         0\n",
      "CoverCategory                          0\n",
      "CoverType                              0\n",
      "CoverGroup                             0\n",
      "Section                                0\n",
      "Product                                0\n",
      "StatutoryClass                         0\n",
      "StatutoryRiskType                      0\n",
      "TotalPremium                           0\n",
      "TotalClaims                            0\n",
      "TransactionYear                        0\n",
      "LossRatio                         381634\n",
      "TransactionMonthNum                    0\n",
      "TransactionQuarter                     0\n",
      "HasClaim                               0\n",
      "AvgClaimsByMake                      552\n",
      "TotalPremium_Original                  0\n",
      "TotalClaims_Original                   0\n",
      "Province_Free State                    0\n",
      "Province_Gauteng                       0\n",
      "Province_KwaZulu-Natal                 0\n",
      "Province_Limpopo                       0\n",
      "Province_Mpumalanga                    0\n",
      "Province_North West                    0\n",
      "Province_Northern Cape                 0\n",
      "Province_Western Cape                  0\n",
      "Gender_Male                            0\n",
      "VehicleType_Heavy Commercial           0\n",
      "VehicleType_Light Commercial           0\n",
      "VehicleType_Medium Commercial          0\n",
      "VehicleType_Passenger Vehicle          0\n",
      "make_freq                            552\n",
      "Model_freq                           552\n",
      "dtype: int64\n",
      "Missing values per column (top 10):\n",
      " NumberOfVehiclesInFleet    1000098\n",
      "MaritalStatus               994467\n",
      "Rebuilt                     641901\n",
      "WrittenOff                  641901\n",
      "Converted                   641901\n",
      "LossRatio                   381634\n",
      "NewVehicle                  153295\n",
      "Bank                        145961\n",
      "AccountType                  40232\n",
      "mmcode                         552\n",
      "dtype: int64\n"
     ]
    }
   ],
   "source": [
    "print(\"\\nMissing Values after Preprocessing:\\n\", df.isnull().sum())\n",
    "\n",
    "\n",
    "# 1. Print missing value summary\n",
    "missing_summary = df.isnull().sum()\n",
    "print(\"Missing values per column (top 10):\\n\", missing_summary[missing_summary > 0].sort_values(ascending=False).head(10))"
   ]
  },
  {
   "cell_type": "code",
   "execution_count": 5,
   "metadata": {},
   "outputs": [
    {
     "name": "stdout",
     "output_type": "stream",
     "text": [
      "Dropping columns with >95% missing values: ['MaritalStatus', 'NumberOfVehiclesInFleet']\n",
      "Encoding categorical columns: ['Citizenship', 'LegalType', 'Title', 'Language', 'Bank', 'AccountType', 'Country', 'MainCrestaZone', 'SubCrestaZone', 'ItemType', 'make', 'Model', 'bodytype', 'VehicleIntroDate', 'AlarmImmobiliser', 'TrackingDevice', 'NewVehicle', 'WrittenOff', 'Rebuilt', 'Converted', 'TermFrequency', 'ExcessSelected', 'CoverCategory', 'CoverType', 'CoverGroup', 'Section', 'Product', 'StatutoryClass', 'StatutoryRiskType']\n",
      "Processed data saved to ../data/processed/processed_data.csv\n",
      "Final processed data shape: (1000098, 860)\n",
      "Number of features: 860\n"
     ]
    }
   ],
   "source": [
    "# 2. Optionally drop columns with >95% missing values (customize threshold as needed)\n",
    "high_missing = missing_summary[missing_summary > 0]\n",
    "drop_cols = high_missing[high_missing > 0.95 * len(df)].index.tolist()\n",
    "if drop_cols:\n",
    "    print(f\"Dropping columns with >95% missing values: {drop_cols}\")\n",
    "    df = df.drop(columns=drop_cols)\n",
    "\n",
    "# 3. Impute remaining missing values\n",
    "for col in df.columns:\n",
    "    if df[col].dtype == 'object':\n",
    "        df[col] = df[col].fillna('Unknown')\n",
    "    else:\n",
    "        df[col] = df[col].fillna(df[col].median())\n",
    "\n",
    "# 4. Encode categorical variables (if not already encoded)\n",
    "cat_cols = df.select_dtypes(include=['object', 'category']).columns\n",
    "if len(cat_cols) > 0:\n",
    "    print(f\"Encoding categorical columns: {list(cat_cols)}\")\n",
    "    df = pd.get_dummies(df, columns=cat_cols, drop_first=True)\n",
    "\n",
    "# 5. Final check: ensure no missing values remain\n",
    "assert df.isnull().sum().sum() == 0, \"There are still missing values in the data!\"\n",
    "\n",
    "# 6. Save processed data for modeling\n",
    "processed_path = '../data/processed/processed_data.csv'\n",
    "df.to_csv(processed_path, index=False)\n",
    "print(f\"Processed data saved to {processed_path}\")\n",
    "\n",
    "# 7. Print final shape and column count\n",
    "print(f\"Final processed data shape: {df.shape}\")\n",
    "print(f\"Number of features: {len(df.columns)}\")"
   ]
  }
 ],
 "metadata": {
  "kernelspec": {
   "display_name": "venv",
   "language": "python",
   "name": "python3"
  },
  "language_info": {
   "codemirror_mode": {
    "name": "ipython",
    "version": 3
   },
   "file_extension": ".py",
   "mimetype": "text/x-python",
   "name": "python",
   "nbconvert_exporter": "python",
   "pygments_lexer": "ipython3",
   "version": "3.12.8"
  }
 },
 "nbformat": 4,
 "nbformat_minor": 4
}
