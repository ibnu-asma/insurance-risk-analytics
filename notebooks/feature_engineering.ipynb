{
 "cells": [
  {
   "cell_type": "markdown",
   "metadata": {},
   "source": [
    "# Feature Engineering & Preprocessing\n",
    "\n",
    "Enhance and preprocess `MachineLearningRating_v3.csv` for machine learning tasks.\n",
    "\n",
    "**Steps**:\n",
    "- Engineer features (e.g., `LossRatio`, time-based features).\n",
    "- Encode categorical variables.\n",
    "- Handle missing values and outliers.\n",
    "- Visualize engineered features."
   ]
  },
  {
   "cell_type": "code",
   "execution_count": 1,
   "metadata": {},
   "outputs": [],
   "source": [
    "import os\n",
    "import sys\n",
    "sys.path.append(os.path.abspath('..'))  # Adjust path to include the src directory\n",
    "\n",
    "\n",
    "import pandas as pd\n",
    "import matplotlib.pyplot as plt\n",
    "import seaborn as sns\n",
    "from src.data_preprocessor import load_and_preprocess\n",
    "from src.utils import save_plot\n",
    "\n",
    "%matplotlib inline\n",
    "plt.style.use('seaborn-v0_8')\n",
    "pd.set_option('display.max_columns', 60)\n",
    "pd.set_option('display.max_rows', 100)\n",
    "\n",
    "# Load and preprocess data\n",
    "df, scaler = load_and_preprocess('../data/MachineLearningRating_v3.csv')"
   ]
  },
  {
   "cell_type": "markdown",
   "metadata": {},
   "source": [
    "## Feature Engineering Summary"
   ]
  },
  {
   "cell_type": "code",
   "execution_count": 2,
   "metadata": {},
   "outputs": [
    {
     "name": "stdout",
     "output_type": "stream",
     "text": [
      "Data Shape after Preprocessing: (1000098, 69)\n",
      "\n",
      "New Features:\n",
      " ['TransactionYear', 'LossRatio', 'TransactionMonthNum', 'TransactionQuarter', 'HasClaim', 'AvgClaimsByMake', 'Province_Free State', 'Province_Gauteng', 'Province_KwaZulu-Natal', 'Province_Limpopo', 'Province_Mpumalanga', 'Province_North West', 'Province_Northern Cape', 'Province_Western Cape', 'Gender_Male', 'VehicleType_Heavy Commercial', 'VehicleType_Light Commercial', 'VehicleType_Medium Commercial', 'VehicleType_Passenger Vehicle', 'make_freq', 'Model_freq']\n",
      "\n",
      "Descriptive Statistics of Engineered Features:\n",
      "            LossRatio  TransactionYear      HasClaim  AvgClaimsByMake\n",
      "count  618464.000000     1.000098e+06  1.000098e+06    999546.000000\n",
      "mean        0.349885     2.014754e+03  2.787727e-03        64.340071\n",
      "std         9.286479     4.370288e-01  5.272531e-02        16.137360\n",
      "min       -18.700121     2.013000e+03  0.000000e+00         0.000000\n",
      "25%         0.000000     2.015000e+03  0.000000e+00        63.626435\n",
      "50%         0.000000     2.015000e+03  0.000000e+00        63.626435\n",
      "75%         0.000000     2.015000e+03  0.000000e+00        63.626435\n",
      "max      2553.600065     2.015000e+03  1.000000e+00       419.634551\n"
     ]
    }
   ],
   "source": [
    "print(\"Data Shape after Preprocessing:\", df.shape)\n",
    "print(\"\\nNew Features:\\n\", [col for col in df.columns if col not in pd.read_csv('../data/MachineLearningRating_v3.csv', low_memory=False).columns])\n",
    "print(\"\\nDescriptive Statistics of Engineered Features:\\n\", df[['LossRatio', 'TransactionYear', 'HasClaim', 'AvgClaimsByMake']].describe())"
   ]
  },
  {
   "cell_type": "markdown",
   "metadata": {},
   "source": [
    "## Visualization"
   ]
  },
  {
   "cell_type": "code",
   "execution_count": 3,
   "metadata": {},
   "outputs": [
    {
     "name": "stderr",
     "output_type": "stream",
     "text": [
      "C:\\Users\\Cyber Defense\\AppData\\Local\\Temp\\ipykernel_17108\\1871362939.py:11: FutureWarning: \n",
      "\n",
      "Passing `palette` without assigning `hue` is deprecated and will be removed in v0.14.0. Assign the `x` variable to `hue` and set `legend=False` for the same effect.\n",
      "\n",
      "  sns.boxplot(data=df, x='HasClaim', y='TotalClaims', palette='Pastel1')\n"
     ]
    }
   ],
   "source": [
    "# Histogram: LossRatio\n",
    "plt.figure(figsize=(10, 6))\n",
    "sns.histplot(df['LossRatio'].dropna(), bins=50, color='teal')\n",
    "plt.title('Distribution of Loss Ratio')\n",
    "plt.xlabel('Loss Ratio')\n",
    "plt.ylabel('Frequency')\n",
    "save_plot('loss_ratio_hist.png')\n",
    "\n",
    "# Box plot: TotalClaims by HasClaim\n",
    "plt.figure(figsize=(10, 6))\n",
    "sns.boxplot(data=df, x='HasClaim', y='TotalClaims', palette='Pastel1')\n",
    "plt.title('Total Claims by Claim Status')\n",
    "save_plot('total_claims_by_hasclaim.png')"
   ]
  },
  {
   "cell_type": "markdown",
   "metadata": {},
   "source": [
    "## Data Quality Check"
   ]
  },
  {
   "cell_type": "code",
   "execution_count": 4,
   "metadata": {},
   "outputs": [
    {
     "name": "stdout",
     "output_type": "stream",
     "text": [
      "\n",
      "Missing Values after Preprocessing:\n",
      " UnderwrittenCoverID                    0\n",
      "PolicyID                               0\n",
      "TransactionMonth                       0\n",
      "IsVATRegistered                        0\n",
      "Citizenship                            0\n",
      "LegalType                              0\n",
      "Title                                  0\n",
      "Language                               0\n",
      "Bank                              145961\n",
      "AccountType                        40232\n",
      "MaritalStatus                     994467\n",
      "Country                                0\n",
      "PostalCode                             0\n",
      "MainCrestaZone                         0\n",
      "SubCrestaZone                          0\n",
      "ItemType                               0\n",
      "mmcode                               552\n",
      "RegistrationYear                       0\n",
      "make                                 552\n",
      "Model                                552\n",
      "Cylinders                            552\n",
      "cubiccapacity                        552\n",
      "kilowatts                            552\n",
      "bodytype                             552\n",
      "NumberOfDoors                        552\n",
      "VehicleIntroDate                     552\n",
      "CustomValueEstimate                    0\n",
      "AlarmImmobiliser                       0\n",
      "TrackingDevice                         0\n",
      "CapitalOutstanding                     2\n",
      "NewVehicle                        153295\n",
      "WrittenOff                        641901\n",
      "Rebuilt                           641901\n",
      "Converted                         641901\n",
      "NumberOfVehiclesInFleet          1000098\n",
      "SumInsured                             0\n",
      "TermFrequency                          0\n",
      "CalculatedPremiumPerTerm               0\n",
      "ExcessSelected                         0\n",
      "CoverCategory                          0\n",
      "CoverType                              0\n",
      "CoverGroup                             0\n",
      "Section                                0\n",
      "Product                                0\n",
      "StatutoryClass                         0\n",
      "StatutoryRiskType                      0\n",
      "TotalPremium                           0\n",
      "TotalClaims                            0\n",
      "TransactionYear                        0\n",
      "LossRatio                         381634\n",
      "TransactionMonthNum                    0\n",
      "TransactionQuarter                     0\n",
      "HasClaim                               0\n",
      "AvgClaimsByMake                      552\n",
      "Province_Free State                    0\n",
      "Province_Gauteng                       0\n",
      "Province_KwaZulu-Natal                 0\n",
      "Province_Limpopo                       0\n",
      "Province_Mpumalanga                    0\n",
      "Province_North West                    0\n",
      "Province_Northern Cape                 0\n",
      "Province_Western Cape                  0\n",
      "Gender_Male                            0\n",
      "VehicleType_Heavy Commercial           0\n",
      "VehicleType_Light Commercial           0\n",
      "VehicleType_Medium Commercial          0\n",
      "VehicleType_Passenger Vehicle          0\n",
      "make_freq                            552\n",
      "Model_freq                           552\n",
      "dtype: int64\n"
     ]
    }
   ],
   "source": [
    "print(\"\\nMissing Values after Preprocessing:\\n\", df.isnull().sum())"
   ]
  }
 ],
 "metadata": {
  "kernelspec": {
   "display_name": "venv",
   "language": "python",
   "name": "python3"
  },
  "language_info": {
   "codemirror_mode": {
    "name": "ipython",
    "version": 3
   },
   "file_extension": ".py",
   "mimetype": "text/x-python",
   "name": "python",
   "nbconvert_exporter": "python",
   "pygments_lexer": "ipython3",
   "version": "3.12.8"
  }
 },
 "nbformat": 4,
 "nbformat_minor": 4
}
