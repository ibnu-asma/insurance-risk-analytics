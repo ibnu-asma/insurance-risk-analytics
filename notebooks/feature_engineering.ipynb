{
 "cells": [
  {
   "cell_type": "markdown",
   "metadata": {},
   "source": [
    "# Feature Engineering & Preprocessing\n",
    "\n",
    "Enhance and preprocess `MachineLearningRating_v3.csv` for machine learning tasks.\n",
    "\n",
    "**Steps**:\n",
    "- Engineer features (e.g., `LossRatio`, time-based features).\n",
    "- Encode categorical variables.\n",
    "- Handle missing values and outliers.\n",
    "- Visualize engineered features."
   ]
  },
  {
   "cell_type": "code",
   "execution_count": 1,
   "metadata": {},
   "outputs": [
    {
     "name": "stderr",
     "output_type": "stream",
     "text": [
      "c:\\Users\\Cyber Defense\\Desktop\\week3\\insurance-risk-analytics\\src\\data_preprocessor.py:81: DtypeWarning: Columns (10,11,37) have mixed types. Specify dtype option on import or set low_memory=False.\n",
      "  df = pd.read_csv(csv_path)\n"
     ]
    }
   ],
   "source": [
    "import os\n",
    "import sys\n",
    "sys.path.append(os.path.abspath('..'))  # Adjust path to include the src directory\n",
    "\n",
    "\n",
    "import pandas as pd\n",
    "import matplotlib.pyplot as plt\n",
    "import seaborn as sns\n",
    "from src.data_preprocessor import load_and_preprocess\n",
    "from src.utils import save_plot\n",
    "\n",
    "%matplotlib inline\n",
    "plt.style.use('seaborn-v0_8')\n",
    "pd.set_option('display.max_columns', 60)\n",
    "pd.set_option('display.max_rows', 100)\n",
    "\n",
    "# Load and preprocess data\n",
    "df, scaler = load_and_preprocess('../data/MachineLearningRating_v3.csv')"
   ]
  },
  {
   "cell_type": "markdown",
   "metadata": {},
   "source": [
    "## Feature Engineering Summary"
   ]
  },
  {
   "cell_type": "code",
   "execution_count": null,
   "metadata": {},
   "outputs": [],
   "source": [
    "print(\"Data Shape after Preprocessing:\", df.shape)\n",
    "print(\"\\nNew Features:\\n\", [col for col in df.columns if col not in pd.read_csv('../data/MachineLearningRating_v3.csv').columns])\n",
    "print(\"\\nDescriptive Statistics of Engineered Features:\\n\", df[['LossRatio', 'TransactionYear', 'HasClaim', 'AvgClaimsByMake']].describe())"
   ]
  },
  {
   "cell_type": "markdown",
   "metadata": {},
   "source": [
    "## Visualization"
   ]
  },
  {
   "cell_type": "code",
   "execution_count": null,
   "metadata": {},
   "outputs": [],
   "source": [
    "# Histogram: LossRatio\n",
    "plt.figure(figsize=(10, 6))\n",
    "sns.histplot(df['LossRatio'].dropna(), bins=50, color='teal')\n",
    "plt.title('Distribution of Loss Ratio')\n",
    "plt.xlabel('Loss Ratio')\n",
    "plt.ylabel('Frequency')\n",
    "save_plot('loss_ratio_hist.png')\n",
    "\n",
    "# Box plot: TotalClaims by HasClaim\n",
    "plt.figure(figsize=(10, 6))\n",
    "sns.boxplot(data=df, x='HasClaim', y='TotalClaims', palette='Pastel1')\n",
    "plt.title('Total Claims by Claim Status')\n",
    "save_plot('total_claims_by_hasclaim.png')"
   ]
  },
  {
   "cell_type": "markdown",
   "metadata": {},
   "source": [
    "## Data Quality Check"
   ]
  },
  {
   "cell_type": "code",
   "execution_count": null,
   "metadata": {},
   "outputs": [],
   "source": [
    "print(\"\\nMissing Values after Preprocessing:\\n\", df.isnull().sum())"
   ]
  }
 ],
 "metadata": {
  "kernelspec": {
   "display_name": "venv",
   "language": "python",
   "name": "python3"
  },
  "language_info": {
   "codemirror_mode": {
    "name": "ipython",
    "version": 3
   },
   "file_extension": ".py",
   "mimetype": "text/x-python",
   "name": "python",
   "nbconvert_exporter": "python",
   "pygments_lexer": "ipython3",
   "version": "3.12.8"
  }
 },
 "nbformat": 4,
 "nbformat_minor": 4
}
