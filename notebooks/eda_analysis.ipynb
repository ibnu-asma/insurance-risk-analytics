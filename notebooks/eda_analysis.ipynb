{
 "cells": [
  {
   "cell_type": "markdown",
   "metadata": {},
   "source": [
    "# Insurance Data EDA\n",
    "\n",
    "Exploratory Data Analysis for AlphaCare Insurance Solutions using `MachineLearningRating_v3.csv` (converted from pipe-separated .txt, Feb 2014–Aug 2015).\n",
    "\n",
    "**Guiding Questions**:\n",
    "- What is the overall Loss Ratio (TotalClaims / TotalPremium)? How does it vary by Province, VehicleType, Gender?\n",
    "- What are the distributions of TotalPremium, TotalClaims, CustomValueEstimate? Are there outliers?\n",
    "- Are there temporal trends in claim frequency/severity over the 18-month period?\n",
    "- Which vehicle make/Model are associated with the highest/lowest claim amounts?\n",
    "\n",
    "**Notes**:\n",
    "- `CapitalOutstanding` had comma-separated numbers (e.g., '285700,00'), converted to floats.\n",
    "- `CrossBorder` and other columns checked for data quality."
   ]
  },
  {
   "cell_type": "code",
   "execution_count": 20,
   "metadata": {},
   "outputs": [],
   "source": [
    "import sys\n",
    "import os\n",
    "sys.path.append(os.path.abspath('..'))\n",
    "\n",
    "import pandas as pd\n",
    "import matplotlib.pyplot as plt\n",
    "import seaborn as sns\n",
    "from src.data_loader import load_data\n",
    "from src.utils import save_plot\n",
    "\n",
    "%matplotlib inline\n",
    "plt.style.use('seaborn-v0_8')\n",
    "\n",
    "# Load data\n",
    "df = load_data('../data/MachineLearningRating_v3.csv')"
   ]
  },
  {
   "cell_type": "code",
   "execution_count": 21,
   "metadata": {},
   "outputs": [
    {
     "name": "stdout",
     "output_type": "stream",
     "text": [
      "['UnderwrittenCoverID|PolicyID|TransactionMonth|IsVATRegistered|Citizenship|LegalType|Title|Language|Bank|AccountType|MaritalStatus|Gender|Country|Province|PostalCode|MainCrestaZone|SubCrestaZone|ItemType|mmcode|VehicleType|RegistrationYear|make|Model|Cylinders|cubiccapacity|kilowatts|bodytype|NumberOfDoors|VehicleIntroDate|CustomValueEstimate|AlarmImmobiliser|TrackingDevice|CapitalOutstanding|NewVehicle|WrittenOff|Rebuilt|Converted|CrossBorder|NumberOfVehiclesInFleet|SumInsured|TermFrequency|CalculatedPremiumPerTerm|ExcessSelected|CoverCategory|CoverType|CoverGroup|Section|Product|StatutoryClass|StatutoryRiskType|TotalPremium|TotalClaims']\n"
     ]
    }
   ],
   "source": [
    "print(df.columns.tolist())\n"
   ]
  },
  {
   "cell_type": "markdown",
   "metadata": {},
   "source": [
    "## Data Summarization"
   ]
  },
  {
   "cell_type": "code",
   "execution_count": 23,
   "metadata": {},
   "outputs": [
    {
     "name": "stdout",
     "output_type": "stream",
     "text": [
      "Descriptive Statistics:\n",
      "        TotalPremium   TotalClaims    SumInsured      kilowatts  \\\n",
      "count  1.000098e+06  1.000098e+06  1.000098e+06  999546.000000   \n",
      "mean   6.190550e+01  6.486119e+01  6.041727e+05      97.207919   \n",
      "std    2.302845e+02  2.384075e+03  1.508332e+06      19.393256   \n",
      "min   -7.825768e+02 -1.200241e+04  1.000000e-02       0.000000   \n",
      "25%    0.000000e+00  0.000000e+00  5.000000e+03      75.000000   \n",
      "50%    2.178333e+00  0.000000e+00  7.500000e+03     111.000000   \n",
      "75%    2.192982e+01  0.000000e+00  2.500000e+05     111.000000   \n",
      "max    6.528260e+04  3.930921e+05  1.263620e+07     309.000000   \n",
      "\n",
      "       CustomValueEstimate  \n",
      "count         2.204560e+05  \n",
      "mean          2.255311e+05  \n",
      "std           5.645157e+05  \n",
      "min           2.000000e+04  \n",
      "25%           1.350000e+05  \n",
      "50%           2.200000e+05  \n",
      "75%           2.800000e+05  \n",
      "max           2.655000e+07  \n",
      "\n",
      "Data Types:\n",
      " UnderwrittenCoverID          object\n",
      "PolicyID                     object\n",
      "TransactionMonth             object\n",
      "IsVATRegistered              object\n",
      "Citizenship                  object\n",
      "LegalType                    object\n",
      "Title                        object\n",
      "Language                     object\n",
      "Bank                         object\n",
      "AccountType                  object\n",
      "MaritalStatus                object\n",
      "Gender                       object\n",
      "Country                      object\n",
      "Province                     object\n",
      "PostalCode                   object\n",
      "MainCrestaZone               object\n",
      "SubCrestaZone                object\n",
      "ItemType                     object\n",
      "mmcode                       object\n",
      "VehicleType                  object\n",
      "RegistrationYear             object\n",
      "make                         object\n",
      "Model                        object\n",
      "Cylinders                    object\n",
      "cubiccapacity                object\n",
      "kilowatts                   float64\n",
      "bodytype                     object\n",
      "NumberOfDoors                object\n",
      "VehicleIntroDate             object\n",
      "CustomValueEstimate         float64\n",
      "AlarmImmobiliser             object\n",
      "TrackingDevice               object\n",
      "CapitalOutstanding           object\n",
      "NewVehicle                   object\n",
      "WrittenOff                   object\n",
      "Rebuilt                      object\n",
      "Converted                    object\n",
      "CrossBorder                  object\n",
      "NumberOfVehiclesInFleet      object\n",
      "SumInsured                  float64\n",
      "TermFrequency                object\n",
      "CalculatedPremiumPerTerm     object\n",
      "ExcessSelected               object\n",
      "CoverCategory                object\n",
      "CoverType                    object\n",
      "CoverGroup                   object\n",
      "Section                      object\n",
      "Product                      object\n",
      "StatutoryClass               object\n",
      "StatutoryRiskType            object\n",
      "TotalPremium                float64\n",
      "TotalClaims                 float64\n",
      "dtype: object\n",
      "\n",
      "Missing Values:\n",
      " UnderwrittenCoverID              0\n",
      "PolicyID                         0\n",
      "TransactionMonth                 0\n",
      "IsVATRegistered                  0\n",
      "Citizenship                      0\n",
      "LegalType                        0\n",
      "Title                            0\n",
      "Language                         0\n",
      "Bank                             0\n",
      "AccountType                      0\n",
      "MaritalStatus                    0\n",
      "Gender                           0\n",
      "Country                          0\n",
      "Province                         0\n",
      "PostalCode                       0\n",
      "MainCrestaZone                   0\n",
      "SubCrestaZone                    0\n",
      "ItemType                         0\n",
      "mmcode                           0\n",
      "VehicleType                      0\n",
      "RegistrationYear                 0\n",
      "make                             0\n",
      "Model                            0\n",
      "Cylinders                        0\n",
      "cubiccapacity                    0\n",
      "kilowatts                      552\n",
      "bodytype                         0\n",
      "NumberOfDoors                    0\n",
      "VehicleIntroDate                 0\n",
      "CustomValueEstimate         779642\n",
      "AlarmImmobiliser                 0\n",
      "TrackingDevice                   0\n",
      "CapitalOutstanding               0\n",
      "NewVehicle                       0\n",
      "WrittenOff                       0\n",
      "Rebuilt                          0\n",
      "Converted                        0\n",
      "CrossBorder                      0\n",
      "NumberOfVehiclesInFleet          0\n",
      "SumInsured                       0\n",
      "TermFrequency                    0\n",
      "CalculatedPremiumPerTerm         0\n",
      "ExcessSelected                   0\n",
      "CoverCategory                    0\n",
      "CoverType                        0\n",
      "CoverGroup                       0\n",
      "Section                          0\n",
      "Product                          0\n",
      "StatutoryClass                   0\n",
      "StatutoryRiskType                0\n",
      "TotalPremium                     0\n",
      "TotalClaims                      0\n",
      "dtype: int64\n"
     ]
    }
   ],
   "source": [
    "# Descriptive statistics\n",
    "numerical_cols = ['TotalPremium', 'TotalClaims', 'SumInsured', 'kilowatts', 'CustomValueEstimate', 'CapitalOutstanding']\n",
    "print(\"Descriptive Statistics:\\n\", df[numerical_cols].describe())\n",
    "\n",
    "# Data types\n",
    "print(\"\\nData Types:\\n\", df.dtypes)\n",
    "\n",
    "# Missing values\n",
    "print(\"\\nMissing Values:\\n\", df.isnull().sum())\n",
    "\n",
    "# Check CapitalOutstanding and CrossBorder\n",
    "print(\"\\nCapitalOutstanding Sample:\\n\", df['CapitalOutstanding'].head(10))\n",
    "print(\"\\nCrossBorder Unique Values:\\n\", df['CrossBorder'].value_counts(dropna=False))"
   ]
  },
  {
   "cell_type": "markdown",
   "metadata": {},
   "source": [
    "## Univariate Analysis"
   ]
  },
  {
   "cell_type": "code",
   "execution_count": 24,
   "metadata": {},
   "outputs": [],
   "source": [
    "# Histogram: CapitalOutstanding\n",
    "plt.figure(figsize=(10, 6))\n",
    "sns.histplot(df['CapitalOutstanding'].dropna(), bins=50)\n",
    "plt.title('Distribution of Capital Outstanding')\n",
    "save_plot('capital_outstanding_hist.png')\n",
    "\n",
    "# Histogram: TotalClaims\n",
    "plt.figure(figsize=(10, 6))\n",
    "sns.histplot(df['TotalClaims'], bins=50)\n",
    "plt.title('Distribution of Total Claims')\n",
    "save_plot('total_claims_hist.png')\n",
    "\n",
    "# Bar chart: Province\n",
    "plt.figure(figsize=(10, 6))\n",
    "df['Province'].value_counts().plot(kind='bar')\n",
    "plt.title('Distribution of Policies by Province')\n",
    "plt.xticks(rotation=45)\n",
    "save_plot('province_bar.png')"
   ]
  },
  {
   "cell_type": "markdown",
   "metadata": {},
   "source": [
    "## Bivariate/Multivariate Analysis"
   ]
  },
  {
   "cell_type": "code",
   "execution_count": 25,
   "metadata": {},
   "outputs": [],
   "source": [
    "# Scatter plot: Premium vs Claims by PostalCode\n",
    "plt.figure(figsize=(10, 6))\n",
    "sns.scatterplot(data=df, x='TotalPremium', y='TotalClaims', hue='PostalCode', size=10, legend=False)\n",
    "plt.title('Premium vs Claims by PostalCode')\n",
    "save_plot('premium_vs_claims_scatter.png')\n",
    "\n",
    "# Correlation matrix\n",
    "corr_matrix = df[numerical_cols].corr()\n",
    "plt.figure(figsize=(8, 6))\n",
    "sns.heatmap(corr_matrix, annot=True, cmap='coolwarm')\n",
    "plt.title('Correlation Matrix')\n",
    "save_plot('correlation_matrix.png')"
   ]
  },
  {
   "cell_type": "markdown",
   "metadata": {},
   "source": [
    "## Loss Ratio Analysis\n",
    "\n",
    "Calculate `LossRatio = TotalClaims / TotalPremium` and analyze by Province, VehicleType, Gender."
   ]
  },
  {
   "cell_type": "code",
   "execution_count": 26,
   "metadata": {},
   "outputs": [],
   "source": [
    "# Avoid division by zero\n",
    "df['LossRatio'] = df['TotalClaims'] / df['TotalPremium'].replace(0, float('nan'))\n",
    "plt.figure(figsize=(10, 6))\n",
    "sns.barplot(data=df, x='Province', y='LossRatio', estimator='mean')\n",
    "plt.title('Average Loss Ratio by Province')\n",
    "plt.xticks(rotation=45)\n",
    "save_plot('loss_ratio_province.png')"
   ]
  },
  {
   "cell_type": "markdown",
   "metadata": {},
   "source": [
    "## Temporal Trends\n",
    "\n",
    "Analyze claim frequency over TransactionMonth."
   ]
  },
  {
   "cell_type": "code",
   "execution_count": 29,
   "metadata": {},
   "outputs": [],
   "source": [
    "df['HasClaim'] = df['TotalClaims'] > 0\n",
    "claim_freq = df.groupby(df['TransactionMonth'].dt.to_period('M'))['HasClaim'].mean()\n",
    "plt.figure(figsize=(12, 6))\n",
    "claim_freq.plot(kind='line')\n",
    "plt.title('Claim Frequency Over Time')\n",
    "plt.xlabel('Transaction Month')\n",
    "plt.ylabel('Claim Frequency')\n",
    "save_plot('claim_freq_time.png')"
   ]
  },
  {
   "cell_type": "markdown",
   "metadata": {},
   "source": [
    "## Outlier Detection"
   ]
  },
  {
   "cell_type": "code",
   "execution_count": 30,
   "metadata": {},
   "outputs": [],
   "source": [
    "plt.figure(figsize=(10, 6))\n",
    "sns.boxplot(data=df, y='TotalClaims', x='VehicleType')\n",
    "plt.title('Box Plot of Total Claims by Vehicle Type')\n",
    "plt.xticks(rotation=45)\n",
    "save_plot('total_claims_boxplot.png')"
   ]
  },
  {
   "cell_type": "markdown",
   "metadata": {},
   "source": [
    "## Vehicle Make/Model Analysis\n",
    "\n",
    "Identify make/Model with highest/lowest claim amounts."
   ]
  },
  {
   "cell_type": "code",
   "execution_count": 32,
   "metadata": {},
   "outputs": [],
   "source": [
    "claims_by_make = df.groupby('make')['TotalClaims'].mean().sort_values()\n",
    "plt.figure(figsize=(12, 6))\n",
    "pd.concat([claims_by_make.head(5), claims_by_make.tail(5)]).plot(kind='bar')\n",
    "plt.title('Top/Bottom 5 Makes by Average Claim Amount')\n",
    "plt.xticks(rotation=45)\n",
    "save_plot('claims_by_make.png')"
   ]
  }
 ],
 "metadata": {
  "kernelspec": {
   "display_name": "venv",
   "language": "python",
   "name": "python3"
  },
  "language_info": {
   "codemirror_mode": {
    "name": "ipython",
    "version": 3
   },
   "file_extension": ".py",
   "mimetype": "text/x-python",
   "name": "python",
   "nbconvert_exporter": "python",
   "pygments_lexer": "ipython3",
   "version": "3.12.8"
  }
 },
 "nbformat": 4,
 "nbformat_minor": 4
}
