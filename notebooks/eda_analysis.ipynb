{
 "cells": [
  {
   "cell_type": "markdown",
   "metadata": {},
   "source": [
    "# Insurance Data EDA\n",
    "\n",
    "Exploratory Data Analysis for AlphaCare Insurance Solutions using `MachineLearningRating_v3.csv` (converted from pipe-separated .txt, Feb 2014–Aug 2015).\n",
    "\n",
    "**Guiding Questions**:\n",
    "- What is the overall Loss Ratio (TotalClaims / TotalPremium)? How does it vary by Province, VehicleType, Gender?\n",
    "- What are the distributions of TotalPremium, TotalClaims, CustomValueEstimate? Are there outliers?\n",
    "- Are there temporal trends in claim frequency/severity over the 18-month period?\n",
    "- Which vehicle make/Model are associated with the highest/lowest claim amounts?\n",
    "\n",
    "**Notes**:\n",
    "- `CapitalOutstanding` had comma-separated numbers, converted to floats.\n",
    "- `MaritalStatus`, `Gender`, `CrossBorder` had mixed types, set as categories.\n",
    "- Negative `TotalPremium` and `TotalClaims` may indicate refunds or errors.\n",
    "- `CustomValueEstimate` has 78% missing values."
   ]
  },
  {
   "cell_type": "code",
   "execution_count": 1,
   "metadata": {},
   "outputs": [],
   "source": [
    "import sys\n",
    "import os\n",
    "sys.path.append(os.path.abspath('..'))\n",
    "\n",
    "\n",
    "\n",
    "import pandas as pd\n",
    "import matplotlib.pyplot as plt\n",
    "import seaborn as sns\n",
    "from src.data_loader import load_data\n",
    "from src.utils import save_plot\n",
    "\n",
    "%matplotlib inline\n",
    "plt.style.use('seaborn-v0_8')\n",
    "pd.set_option('display.max_columns', 60)\n",
    "pd.set_option('display.max_rows', 100)\n",
    "\n",
    "# Load data\n",
    "df = load_data('../data/MachineLearningRating_v3.csv')"
   ]
  },
  {
   "cell_type": "markdown",
   "metadata": {},
   "source": [
    "## Data Summarization"
   ]
  },
  {
   "cell_type": "code",
   "execution_count": 2,
   "metadata": {},
   "outputs": [
    {
     "name": "stdout",
     "output_type": "stream",
     "text": [
      "Descriptive Statistics:\n",
      "        TotalPremium   TotalClaims   SumInsured      kilowatts  \\\n",
      "count  1.000098e+06  1.000098e+06   1000098.00  999546.000000   \n",
      "mean   6.190550e+01  6.486119e+01    604172.50      97.207916   \n",
      "std    2.302845e+02  2.384075e+03   1508331.75      19.393255   \n",
      "min   -7.825768e+02 -1.200241e+04         0.01       0.000000   \n",
      "25%    0.000000e+00  0.000000e+00      5000.00      75.000000   \n",
      "50%    2.178333e+00  0.000000e+00      7500.00     111.000000   \n",
      "75%    2.192982e+01  0.000000e+00    250000.00     111.000000   \n",
      "max    6.528260e+04  3.930921e+05  12636200.00     309.000000   \n",
      "\n",
      "       CustomValueEstimate  \n",
      "count         2.204560e+05  \n",
      "mean          2.255311e+05  \n",
      "std           5.645158e+05  \n",
      "min           2.000000e+04  \n",
      "25%           1.350000e+05  \n",
      "50%           2.200000e+05  \n",
      "75%           2.800000e+05  \n",
      "max           2.655000e+07  \n",
      "\n",
      "Data Types:\n",
      " UnderwrittenCoverID                  int64\n",
      "PolicyID                             int64\n",
      "TransactionMonth            datetime64[ns]\n",
      "IsVATRegistered                   category\n",
      "Citizenship                       category\n",
      "LegalType                         category\n",
      "Title                             category\n",
      "Language                          category\n",
      "Bank                              category\n",
      "AccountType                       category\n",
      "MaritalStatus                     category\n",
      "Gender                            category\n",
      "Country                           category\n",
      "Province                          category\n",
      "PostalCode                        category\n",
      "MainCrestaZone                    category\n",
      "SubCrestaZone                     category\n",
      "ItemType                          category\n",
      "mmcode                            category\n",
      "VehicleType                       category\n",
      "RegistrationYear                     int32\n",
      "make                              category\n",
      "Model                             category\n",
      "Cylinders                          float32\n",
      "cubiccapacity                      float32\n",
      "kilowatts                          float32\n",
      "bodytype                          category\n",
      "NumberOfDoors                      float32\n",
      "VehicleIntroDate                  category\n",
      "CustomValueEstimate                float32\n",
      "AlarmImmobiliser                  category\n",
      "TrackingDevice                    category\n",
      "CapitalOutstanding                  object\n",
      "NewVehicle                        category\n",
      "WrittenOff                        category\n",
      "Rebuilt                           category\n",
      "Converted                         category\n",
      "CrossBorder                       category\n",
      "NumberOfVehiclesInFleet            float32\n",
      "SumInsured                         float32\n",
      "TermFrequency                     category\n",
      "CalculatedPremiumPerTerm           float32\n",
      "ExcessSelected                    category\n",
      "CoverCategory                     category\n",
      "CoverType                         category\n",
      "CoverGroup                        category\n",
      "Section                           category\n",
      "Product                           category\n",
      "StatutoryClass                    category\n",
      "StatutoryRiskType                 category\n",
      "TotalPremium                       float32\n",
      "TotalClaims                        float32\n",
      "dtype: object\n",
      "\n",
      "Missing Values:\n",
      " UnderwrittenCoverID               0\n",
      "PolicyID                          0\n",
      "TransactionMonth                  0\n",
      "IsVATRegistered                   0\n",
      "Citizenship                       0\n",
      "LegalType                         0\n",
      "Title                             0\n",
      "Language                          0\n",
      "Bank                         145961\n",
      "AccountType                   40232\n",
      "MaritalStatus                994467\n",
      "Gender                       950526\n",
      "Country                           0\n",
      "Province                          0\n",
      "PostalCode                        0\n",
      "MainCrestaZone                    0\n",
      "SubCrestaZone                     0\n",
      "ItemType                          0\n",
      "mmcode                          552\n",
      "VehicleType                     552\n",
      "RegistrationYear                  0\n",
      "make                            552\n",
      "Model                           552\n",
      "Cylinders                       552\n",
      "cubiccapacity                   552\n",
      "kilowatts                       552\n",
      "bodytype                        552\n",
      "NumberOfDoors                   552\n",
      "VehicleIntroDate                552\n",
      "CustomValueEstimate          779642\n",
      "AlarmImmobiliser                  0\n",
      "TrackingDevice                    0\n",
      "CapitalOutstanding                2\n",
      "NewVehicle                   153295\n",
      "WrittenOff                   641901\n",
      "Rebuilt                      641901\n",
      "Converted                    641901\n",
      "CrossBorder                  999400\n",
      "NumberOfVehiclesInFleet     1000098\n",
      "SumInsured                        0\n",
      "TermFrequency                     0\n",
      "CalculatedPremiumPerTerm          0\n",
      "ExcessSelected                    0\n",
      "CoverCategory                     0\n",
      "CoverType                         0\n",
      "CoverGroup                        0\n",
      "Section                           0\n",
      "Product                           0\n",
      "StatutoryClass                    0\n",
      "StatutoryRiskType                 0\n",
      "TotalPremium                      0\n",
      "TotalClaims                       0\n",
      "dtype: int64\n",
      "\n",
      "MaritalStatus Unique Values:\n",
      " MaritalStatus\n",
      "NaN        994467\n",
      "Single       4254\n",
      "Married      1377\n",
      "Name: count, dtype: int64\n",
      "\n",
      "Gender Unique Values:\n",
      " Gender\n",
      "NaN       950526\n",
      "Male       42817\n",
      "Female      6755\n",
      "Name: count, dtype: int64\n",
      "\n",
      "CrossBorder Unique Values:\n",
      " CrossBorder\n",
      "NaN    999400\n",
      "No        698\n",
      "Name: count, dtype: int64\n",
      "\n",
      "Negative TotalPremium Count: 288\n",
      "Negative TotalClaims Count: 5\n",
      "\n",
      "TransactionMonth Missing Values: 0\n",
      "TransactionMonth Range:\n",
      " min   2013-10-01\n",
      "max   2015-08-01\n",
      "Name: TransactionMonth, dtype: datetime64[ns]\n"
     ]
    }
   ],
   "source": [
    "# Descriptive statistics\n",
    "numerical_cols = ['TotalPremium', 'TotalClaims', 'SumInsured', 'kilowatts', 'CustomValueEstimate', 'CapitalOutstanding']\n",
    "print(\"Descriptive Statistics:\\n\", df[numerical_cols].describe())\n",
    "\n",
    "# Data types\n",
    "print(\"\\nData Types:\\n\", df.dtypes)\n",
    "\n",
    "# Missing values\n",
    "print(\"\\nMissing Values:\\n\", df.isnull().sum())\n",
    "\n",
    "# Check categorical columns\n",
    "print(\"\\nMaritalStatus Unique Values:\\n\", df['MaritalStatus'].value_counts(dropna=False))\n",
    "print(\"\\nGender Unique Values:\\n\", df['Gender'].value_counts(dropna=False))\n",
    "print(\"\\nCrossBorder Unique Values:\\n\", df['CrossBorder'].value_counts(dropna=False))\n",
    "\n",
    "# Negative values\n",
    "print(\"\\nNegative TotalPremium Count:\", (df['TotalPremium'] < 0).sum())\n",
    "print(\"Negative TotalClaims Count:\", (df['TotalClaims'] < 0).sum())\n",
    "\n",
    "# TransactionMonth\n",
    "print(\"\\nTransactionMonth Missing Values:\", df['TransactionMonth'].isnull().sum())\n",
    "print(\"TransactionMonth Range:\\n\", df['TransactionMonth'].agg(['min', 'max']))"
   ]
  },
  {
   "cell_type": "markdown",
   "metadata": {},
   "source": [
    "## Univariate Analysis"
   ]
  },
  {
   "cell_type": "code",
   "execution_count": 3,
   "metadata": {},
   "outputs": [],
   "source": [
    "# Histogram: TotalClaims\n",
    "plt.figure(figsize=(10, 6))\n",
    "sns.histplot(df['TotalClaims'].dropna(), bins=50, color='teal')\n",
    "plt.title('Distribution of Total Claims')\n",
    "plt.xlabel('Total Claims (ZAR)')\n",
    "plt.ylabel('Frequency')\n",
    "save_plot('total_claims_hist.png')\n",
    "\n",
    "# Bar chart: Province\n",
    "plt.figure(figsize=(10, 6))\n",
    "df['Province'].value_counts().plot(kind='bar', color='coral')\n",
    "plt.title('Distribution of Policies by Province')\n",
    "plt.xticks(rotation=45)\n",
    "save_plot('province_bar.png')"
   ]
  },
  {
   "cell_type": "markdown",
   "metadata": {},
   "source": [
    "## Bivariate/Multivariate Analysis"
   ]
  },
  {
   "cell_type": "code",
   "execution_count": null,
   "metadata": {},
   "outputs": [],
   "source": [
    "# Scatter plot: Premium vs Claims by PostalCode\n",
    "plt.figure(figsize=(10, 6))\n",
    "sns.scatterplot(data=df, x='TotalPremium', y='TotalClaims', hue='PostalCode', size=10, legend=False, palette='viridis')\n",
    "plt.title('Premium vs Claims by PostalCode')\n",
    "save_plot('premium_vs_claims_scatter.png')\n",
    "\n",
    "# Correlation matrix\n",
    "corr_matrix = df[numerical_cols].corr()\n",
    "plt.figure(figsize=(8, 6))\n",
    "sns.heatmap(corr_matrix, annot=True, cmap='coolwarm')\n",
    "plt.title('Correlation Matrix')\n",
    "save_plot('correlation_matrix.png')"
   ]
  },
  {
   "cell_type": "markdown",
   "metadata": {},
   "source": [
    "## Loss Ratio Analysis"
   ]
  },
  {
   "cell_type": "code",
   "execution_count": 5,
   "metadata": {},
   "outputs": [
    {
     "name": "stderr",
     "output_type": "stream",
     "text": [
      "C:\\Users\\Cyber Defense\\AppData\\Local\\Temp\\ipykernel_21744\\348689396.py:4: FutureWarning: \n",
      "\n",
      "Passing `palette` without assigning `hue` is deprecated and will be removed in v0.14.0. Assign the `x` variable to `hue` and set `legend=False` for the same effect.\n",
      "\n",
      "  sns.barplot(data=df, x='Province', y='LossRatio', estimator='mean', palette='Set2')\n"
     ]
    }
   ],
   "source": [
    "# LossRatio\n",
    "df['LossRatio'] = df['TotalClaims'] / df['TotalPremium'].replace(0, float('nan'))\n",
    "plt.figure(figsize=(10, 6))\n",
    "sns.barplot(data=df, x='Province', y='LossRatio', estimator='mean', palette='Set2')\n",
    "plt.title('Average Loss Ratio by Province')\n",
    "plt.xticks(rotation=45)\n",
    "plt.ylabel('Loss Ratio')\n",
    "save_plot('loss_ratio_province.png')"
   ]
  },
  {
   "cell_type": "markdown",
   "metadata": {},
   "source": [
    "## Temporal Trends"
   ]
  },
  {
   "cell_type": "code",
   "execution_count": null,
   "metadata": {},
   "outputs": [],
   "source": [
    "df['HasClaim'] = df['TotalClaims'] > 0\n",
    "claim_freq = df.groupby(df['TransactionMonth'].dt.to_period('M'))['HasClaim'].mean()\n",
    "if not claim_freq.empty:\n",
    "    plt.figure(figsize=(12, 6))\n",
    "    claim_freq.plot(kind='line', color='purple', marker='o')\n",
    "    plt.title('Claim Frequency Over Time')\n",
    "    plt.xlabel('Transaction Month')\n",
    "    plt.ylabel('Claim Frequency')\n",
    "    save_plot('claim_freq_time.png')\n",
    "else:\n",
    "    print(\"No claim frequency data available to plot.\")\n",
    "    print(\"TransactionMonth Missing:\", df['TransactionMonth'].isnull().sum())\n",
    "    print(\"HasClaim Value Counts:\\n\", df['HasClaim'].value_counts())\n",
    "    print(\"TotalClaims > 0 Count:\", (df['TotalClaims'] > 0).sum())"
   ]
  },
  {
   "cell_type": "markdown",
   "metadata": {},
   "source": [
    "## Outlier Detection"
   ]
  },
  {
   "cell_type": "code",
   "execution_count": 6,
   "metadata": {},
   "outputs": [
    {
     "name": "stderr",
     "output_type": "stream",
     "text": [
      "C:\\Users\\Cyber Defense\\AppData\\Local\\Temp\\ipykernel_21744\\1868896605.py:2: FutureWarning: \n",
      "\n",
      "Passing `palette` without assigning `hue` is deprecated and will be removed in v0.14.0. Assign the `x` variable to `hue` and set `legend=False` for the same effect.\n",
      "\n",
      "  sns.boxplot(data=df, y='TotalClaims', x='VehicleType', palette='Pastel1')\n"
     ]
    }
   ],
   "source": [
    "plt.figure(figsize=(10, 6))\n",
    "sns.boxplot(data=df, y='TotalClaims', x='VehicleType', palette='Pastel1')\n",
    "plt.title('Box Plot of Total Claims by Vehicle Type')\n",
    "plt.xticks(rotation=45)\n",
    "plt.ylabel('Total Claims (ZAR)')\n",
    "save_plot('total_claims_boxplot.png')"
   ]
  },
  {
   "cell_type": "markdown",
   "metadata": {},
   "source": [
    "## Vehicle Make/Model Analysis"
   ]
  },
  {
   "cell_type": "code",
   "execution_count": null,
   "metadata": {},
   "outputs": [],
   "source": [
    "claims_by_make = df.groupby('make')['TotalClaims'].mean().sort_values()\n",
    "plt.figure(figsize=(12, 6))\n",
    "pd.concat([claims_by_make.head(5), claims_by_make.tail(5)]).plot(kind='bar', color='skyblue')\n",
    "plt.title('Top/Bottom 5 Makes by Average Claim Amount')\n",
    "plt.xticks(rotation=45)\n",
    "plt.ylabel('Average Claim Amount (ZAR)')\n",
    "save_plot('claims_by_make.png')"
   ]
  }
 ],
 "metadata": {
  "kernelspec": {
   "display_name": "Python (insurance-risk-venv)",
   "language": "python",
   "name": "insurance-risk-venv"
  },
  "language_info": {
   "codemirror_mode": {
    "name": "ipython",
    "version": 3
   },
   "file_extension": ".py",
   "mimetype": "text/x-python",
   "name": "python",
   "nbconvert_exporter": "python",
   "pygments_lexer": "ipython3",
   "version": "3.12.8"
  }
 },
 "nbformat": 4,
 "nbformat_minor": 4
}
