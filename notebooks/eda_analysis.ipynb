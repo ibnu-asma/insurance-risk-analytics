{
 "cells": [
  {
   "cell_type": "markdown",
   "metadata": {},
   "source": [
    "# Insurance Data EDA\n",
    "\n",
    "Exploratory Data Analysis for AlphaCare Insurance Solutions (Feb 2014–Aug 2015).\n",
    "\n",
    "**Guiding Questions**:\n",
    "- Overall Loss Ratio and variation by Province, VehicleType, Gender.\n",
    "- Distributions of TotalPremium, TotalClaims, CustomValueEstimate.\n",
    "- Temporal trends in claim frequency/severity.\n",
    "- Vehicle Make/Model with highest/lowest claim amounts."
   ]
  },
  {
   "cell_type": "code",
   "execution_count": null,
   "metadata": {},
   "outputs": [
    {
     "ename": "ModuleNotFoundError",
     "evalue": "No module named 'data_loader'",
     "output_type": "error",
     "traceback": [
      "\u001b[31m---------------------------------------------------------------------------\u001b[39m",
      "\u001b[31mModuleNotFoundError\u001b[39m                       Traceback (most recent call last)",
      "\u001b[36mCell\u001b[39m\u001b[36m \u001b[39m\u001b[32mIn[2]\u001b[39m\u001b[32m, line 4\u001b[39m\n\u001b[32m      2\u001b[39m \u001b[38;5;28;01mimport\u001b[39;00m\u001b[38;5;250m \u001b[39m\u001b[34;01mmatplotlib\u001b[39;00m\u001b[34;01m.\u001b[39;00m\u001b[34;01mpyplot\u001b[39;00m\u001b[38;5;250m \u001b[39m\u001b[38;5;28;01mas\u001b[39;00m\u001b[38;5;250m \u001b[39m\u001b[34;01mplt\u001b[39;00m\n\u001b[32m      3\u001b[39m \u001b[38;5;28;01mimport\u001b[39;00m\u001b[38;5;250m \u001b[39m\u001b[34;01mseaborn\u001b[39;00m\u001b[38;5;250m \u001b[39m\u001b[38;5;28;01mas\u001b[39;00m\u001b[38;5;250m \u001b[39m\u001b[34;01msns\u001b[39;00m\n\u001b[32m----> \u001b[39m\u001b[32m4\u001b[39m \u001b[38;5;28;01mfrom\u001b[39;00m\u001b[38;5;250m \u001b[39m\u001b[34;01mdata_loader\u001b[39;00m\u001b[38;5;250m \u001b[39m\u001b[38;5;28;01mimport\u001b[39;00m load_data\n\u001b[32m      5\u001b[39m \u001b[38;5;28;01mfrom\u001b[39;00m\u001b[38;5;250m \u001b[39m\u001b[34;01msrc\u001b[39;00m\u001b[34;01m.\u001b[39;00m\u001b[34;01mutils\u001b[39;00m\u001b[38;5;250m \u001b[39m\u001b[38;5;28;01mimport\u001b[39;00m save_plot\n\u001b[32m      7\u001b[39m get_ipython().run_line_magic(\u001b[33m'\u001b[39m\u001b[33mmatplotlib\u001b[39m\u001b[33m'\u001b[39m, \u001b[33m'\u001b[39m\u001b[33minline\u001b[39m\u001b[33m'\u001b[39m)\n",
      "\u001b[31mModuleNotFoundError\u001b[39m: No module named 'data_loader'"
     ]
    }
   ],
   "source": [
    "import pandas as pd\n",
    "import matplotlib.pyplot as plt\n",
    "import seaborn as sns\n",
    "from src.data_loader import load_data\n",
    "from src.utils import save_plot\n",
    "\n",
    "%matplotlib inline\n",
    "plt.style.use('seaborn')\n",
    "\n",
    "# Load data\n",
    "df = load_data('../data/insurance_data.csv')"
   ]
  },
  {
   "cell_type": "markdown",
   "metadata": {},
   "source": [
    "## Data Summarization"
   ]
  },
  {
   "cell_type": "code",
   "execution_count": null,
   "metadata": {},
   "outputs": [],
   "source": [
    "# Descriptive statistics\n",
    "numerical_cols = ['TotalPremium', 'TotalClaims', 'SumInsured', 'Kilowatts']\n",
    "print(\"Descriptive Statistics:\\n\", df[numerical_cols].describe())\n",
    "\n",
    "# Data types\n",
    "print(\"\\nData Types:\\n\", df.dtypes)\n",
    "\n",
    "# Missing values\n",
    "print(\"\\nMissing Values:\\n\", df.isnull().sum())"
   ]
  },
  {
   "cell_type": "markdown",
   "metadata": {},
   "source": [
    "## Univariate Analysis"
   ]
  },
  {
   "cell_type": "code",
   "execution_count": null,
   "metadata": {},
   "outputs": [],
   "source": [
    "# Histogram: TotalClaims\n",
    "plt.figure(figsize=(10, 6))\n",
    "sns.histplot(df['TotalClaims'], bins=50)\n",
    "plt.title('Distribution of Total Claims')\n",
    "save_plot('total_claims_hist.png')\n",
    "\n",
    "# Bar chart: Province\n",
    "plt.figure(figsize=(10, 6))\n",
    "df['Province'].value_counts().plot(kind='bar')\n",
    "plt.title('Distribution of Policies by Province')\n",
    "plt.xticks(rotation=45)\n",
    "save_plot('province_bar.png')"
   ]
  },
  {
   "cell_type": "markdown",
   "metadata": {},
   "source": [
    "## Bivariate/Multivariate Analysis"
   ]
  },
  {
   "cell_type": "code",
   "execution_count": null,
   "metadata": {},
   "outputs": [],
   "source": [
    "# Scatter plot: Premium vs Claims by PostalCode\n",
    "plt.figure(figsize=(10, 6))\n",
    "sns.scatterplot(data=df, x='TotalPremium', y='TotalClaims', hue='PostalCode', size=10)\n",
    "plt.title('Premium vs Claims by PostalCode')\n",
    "save_plot('premium_vs_claims_scatter.png')\n",
    "\n",
    "# Correlation matrix\n",
    "corr_matrix = df[numerical_cols].corr()\n",
    "plt.figure(figsize=(8, 6))\n",
    "sns.heatmap(corr_matrix, annot=True, cmap='coolwarm')\n",
    "plt.title('Correlation Matrix')\n",
    "save_plot('correlation_matrix.png')"
   ]
  },
  {
   "cell_type": "markdown",
   "metadata": {},
   "source": [
    "## Loss Ratio Analysis\n",
    "\n",
    "Calculate `LossRatio = TotalClaims / TotalPremium` and analyze by Province, VehicleType, Gender."
   ]
  },
  {
   "cell_type": "code",
   "execution_count": null,
   "metadata": {},
   "outputs": [],
   "source": [
    "df['LossRatio'] = df['TotalClaims'] / df['TotalPremium']\n",
    "plt.figure(figsize=(10, 6))\n",
    "sns.barplot(data=df, x='Province', y='LossRatio', estimator='mean')\n",
    "plt.title('Average Loss Ratio by Province')\n",
    "plt.xticks(rotation=45)\n",
    "save_plot('loss_ratio_province.png')"
   ]
  },
  {
   "cell_type": "markdown",
   "metadata": {},
   "source": [
    "## Temporal Trends\n",
    "\n",
    "Analyze claim frequency over TransactionMonth."
   ]
  },
  {
   "cell_type": "code",
   "execution_count": null,
   "metadata": {},
   "outputs": [],
   "source": [
    "df['HasClaim'] = df['TotalClaims'] > 0\n",
    "claim_freq = df.groupby('TransactionMonth')['HasClaim'].mean()\n",
    "plt.figure(figsize=(12, 6))\n",
    "claim_freq.plot(kind='line')\n",
    "plt.title('Claim Frequency Over Time')\n",
    "plt.xlabel('Transaction Month')\n",
    "plt.ylabel('Claim Frequency')\n",
    "save_plot('claim_freq_time.png')"
   ]
  },
  {
   "cell_type": "markdown",
   "metadata": {},
   "source": [
    "## Outlier Detection"
   ]
  },
  {
   "cell_type": "code",
   "execution_count": null,
   "metadata": {},
   "outputs": [],
   "source": [
    "plt.figure(figsize=(10, 6))\n",
    "sns.boxplot(data=df, y='TotalClaims')\n",
    "plt.title('Box Plot of Total Claims')\n",
    "save_plot('total_claims_boxplot.png')"
   ]
  },
  {
   "cell_type": "markdown",
   "metadata": {},
   "source": [
    "## Vehicle Make/Model Analysis\n",
    "\n",
    "Identify Make/Model with highest/lowest claim amounts."
   ]
  },
  {
   "cell_type": "code",
   "execution_count": null,
   "metadata": {},
   "outputs": [],
   "source": [
    "claims_by_make = df.groupby('Make')['TotalClaims'].mean().sort_values()\n",
    "plt.figure(figsize=(12, 6))\n",
    "claims_by_make.head(5).append(claims_by_make.tail(5)).plot(kind='bar')\n",
    "plt.title('Top/Bottom 5 Makes by Average Claim Amount')\n",
    "plt.xticks(rotation=45)\n",
    "save_plot('claims_by_make.png')"
   ]
  }
 ],
 "metadata": {
  "kernelspec": {
   "display_name": "venv",
   "language": "python",
   "name": "python3"
  },
  "language_info": {
   "codemirror_mode": {
    "name": "ipython",
    "version": 3
   },
   "file_extension": ".py",
   "mimetype": "text/x-python",
   "name": "python",
   "nbconvert_exporter": "python",
   "pygments_lexer": "ipython3",
   "version": "3.12.8"
  }
 },
 "nbformat": 4,
 "nbformat_minor": 4
}
