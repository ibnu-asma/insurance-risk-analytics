{
 "cells": [
  {
   "cell_type": "markdown",
   "metadata": {},
   "source": [
    "# Insurance Data EDA\n",
    "\n",
    "Exploratory Data Analysis for AlphaCare Insurance Solutions using `MachineLearningRating_v3.csv` (converted from .txt, Feb 2014–Aug 2015).\n",
    "\n",
    "**Guiding Questions**:\n",
    "- What is the overall Loss Ratio (TotalClaims / TotalPremium)? How does it vary by Province, VehicleType, Gender?\n",
    "- What are the distributions of TotalPremium, TotalClaims, CustomValueEstimate? Are there outliers?\n",
    "- Are there temporal trends in claim frequency/severity over the 18-month period?\n",
    "- Which vehicle Make/Model are associated with the highest/lowest claim amounts?"
   ]
  },
  {
   "cell_type": "code",
   "execution_count": null,
   "metadata": {},
   "outputs": [],
   "source": [
    "import pandas as pd\n",
    "import matplotlib.pyplot as plt\n",
    "import seaborn as sns\n",
    "from src.data_loader import load_data\n",
    "from src.utils import save_plot\n",
    "\n",
    "%matplotlib inline\n",
    "plt.style.use('seaborn-v0_8')\n",
    "\n",
    "# Load data (assumes .txt has been converted to .csv)\n",
    "df = load_data('../data/MachineLearningRating_v3.csv')"
   ]
  },
  {
   "cell_type": "markdown",
   "metadata": {},
   "source": [
    "## Data Summarization"
   ]
  },
  {
   "cell_type": "code",
   "execution_count": null,
   "metadata": {},
   "outputs": [],
   "source": [
    "# Descriptive statistics\n",
    "numerical_cols = ['TotalPremium', 'TotalClaims', 'SumInsured', 'Kilowatts', 'CustomValueEstimate']\n",
    "print(\"Descriptive Statistics:\\n\", df[numerical_cols].describe())\n",
    "\n",
    "# Data types\n",
    "print(\"\\nData Types:\\n\", df.dtypes)\n",
    "\n",
    "# Missing values\n",
    "print(\"\\nMissing Values:\\n\", df.isnull().sum())"
   ]
  },
  {
   "cell_type": "markdown",
   "metadata": {},
   "source": [
    "## Univariate Analysis"
   ]
  },
  {
   "cell_type": "code",
   "execution_count": null,
   "metadata": {},
   "outputs": [],
   "source": [
    "# Histogram: TotalClaims\n",
    "plt.figure(figsize=(10, 6))\n",
    "sns.histplot(df['TotalClaims'], bins=50)\n",
    "plt.title('Distribution of Total Claims')\n",
    "save_plot('total_claims_hist.png')\n",
    "\n",
    "# Bar chart: Province\n",
    "plt.figure(figsize=(10, 6))\n",
    "df['Province'].value_counts().plot(kind='bar')\n",
    "plt.title('Distribution of Policies by Province')\n",
    "plt.xticks(rotation=45)\n",
    "save_plot('province_bar.png')"
   ]
  },
  {
   "cell_type": "markdown",
   "metadata": {},
   "source": [
    "## Bivariate/Multivariate Analysis"
   ]
  },
  {
   "cell_type": "code",
   "execution_count": null,
   "metadata": {},
   "outputs": [],
   "source": [
    "# Scatter plot: Premium vs Claims by PostalCode\n",
    "plt.figure(figsize=(10, 6))\n",
    "sns.scatterplot(data=df, x='TotalPremium', y='TotalClaims', hue='PostalCode', size=10, legend=False)\n",
    "plt.title('Premium vs Claims by PostalCode')\n",
    "save_plot('premium_vs_claims_scatter.png')\n",
    "\n",
    "# Correlation matrix\n",
    "corr_matrix = df[numerical_cols].corr()\n",
    "plt.figure(figsize=(8, 6))\n",
    "sns.heatmap(corr_matrix, annot=True, cmap='coolwarm')\n",
    "plt.title('Correlation Matrix')\n",
    "save_plot('correlation_matrix.png')"
   ]
  },
  {
   "cell_type": "markdown",
   "metadata": {},
   "source": [
    "## Loss Ratio Analysis\n",
    "\n",
    "Calculate `LossRatio = TotalClaims / TotalPremium` and analyze by Province, VehicleType, Gender."
   ]
  },
  {
   "cell_type": "code",
   "execution_count": null,
   "metadata": {},
   "outputs": [],
   "source": [
    "# Avoid division by zero\n",
    "df['LossRatio'] = df['TotalClaims'] / df['TotalPremium'].replace(0, float('nan'))\n",
    "plt.figure(figsize=(10, 6))\n",
    "sns.barplot(data=df, x='Province', y='LossRatio', estimator='mean')\n",
    "plt.title('Average Loss Ratio by Province')\n",
    "plt.xticks(rotation=45)\n",
    "save_plot('loss_ratio_province.png')"
   ]
  },
  {
   "cell_type": "markdown",
   "metadata": {},
   "source": [
    "## Temporal Trends\n",
    "\n",
    "Analyze claim frequency over TransactionMonth."
   ]
  },
  {
   "cell_type": "code",
   "execution_count": null,
   "metadata": {},
   "outputs": [],
   "source": [
    "df['HasClaim'] = df['TotalClaims'] > 0\n",
    "claim_freq = df.groupby('TransactionMonth')['HasClaim'].mean()\n",
    "plt.figure(figsize=(12, 6))\n",
    "claim_freq.plot(kind='line')\n",
    "plt.title('Claim Frequency Over Time')\n",
    "plt.xlabel('Transaction Month')\n",
    "plt.ylabel('Claim Frequency')\n",
    "save_plot('claim_freq_time.png')"
   ]
  },
  {
   "cell_type": "markdown",
   "metadata": {},
   "source": [
    "## Outlier Detection"
   ]
  },
  {
   "cell_type": "code",
   "execution_count": null,
   "metadata": {},
   "outputs": [],
   "source": [
    "plt.figure(figsize=(10, 6))\n",
    "sns.boxplot(data=df, y='TotalClaims', x='VehicleType')\n",
    "plt.title('Box Plot of Total Claims by Vehicle Type')\n",
    "plt.xticks(rotation=45)\n",
    "save_plot('total_claims_boxplot.png')"
   ]
  },
  {
   "cell_type": "markdown",
   "metadata": {},
   "source": [
    "## Vehicle Make/Model Analysis\n",
    "\n",
    "Identify Make/Model with highest/lowest claim amounts."
   ]
  },
  {
   "cell_type": "code",
   "execution_count": null,
   "metadata": {},
   "outputs": [],
   "source": [
    "claims_by_make = df.groupby('Make')['TotalClaims'].mean().sort_values()\n",
    "plt.figure(figsize=(12, 6))\n",
    "pd.concat([claims_by_make.head(5), claims_by_make.tail(5)]).plot(kind='bar')\n",
    "plt.title('Top/Bottom 5 Makes by Average Claim Amount')\n",
    "plt.xticks(rotation=45)\n",
    "save_plot('claims_by_make.png')"
   ]
  }
 ],
 "metadata": {
  "kernelspec": {
   "display_name": "Python 3",
   "language": "python",
   "name": "python3"
  },
  "language_info": {
   "codemirror_mode": {
    "name": "ipython",
    "version": 3
   },
   "file_extension": ".py",
   "mimetype": "text/x-python",
   "name": "python",
   "nbconvert_exporter": "python",
   "pygments_lexer": "ipython3",
   "version": "3.10.0"
  }
 },
 "nbformat": 4,
 "nbformat_minor": 4
}
