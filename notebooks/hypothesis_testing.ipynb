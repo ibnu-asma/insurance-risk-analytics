{
 "cells": [
  {
   "cell_type": "markdown",
   "metadata": {},
   "source": [
    "# Statistical Hypothesis Testing\n",
    "\n",
    "Validate risk driver hypotheses with fixes for warnings and sample size issues.\n"
   ]
  },
  {
   "cell_type": "code",
   "execution_count": 9,
   "metadata": {},
   "outputs": [
    {
     "name": "stderr",
     "output_type": "stream",
     "text": [
      "c:\\Users\\Cyber Defense\\Desktop\\week3\\insurance-risk-analytics\\src\\data_preprocessor.py:81: DtypeWarning: Columns (10,11,37) have mixed types. Specify dtype option on import or set low_memory=False.\n",
      "  df = pd.read_csv(csv_path)\n"
     ]
    },
    {
     "name": "stdout",
     "output_type": "stream",
     "text": [
      "SumInsured equivalence (WC vs Gauteng) p-value: 0.07971320414125885\n"
     ]
    }
   ],
   "source": [
    "import pandas as pd\n",
    "import numpy as np\n",
    "from scipy import stats\n",
    "from src.data_preprocessor import load_and_preprocess\n",
    "\n",
    "# Load preprocessed data\n",
    "df, _ = load_and_preprocess('../data/MachineLearningRating_v3.csv')\n",
    "df['HasClaim'] = (df['TotalClaims'] > 0).astype(int)\n",
    "df_claims = df[df['TotalClaims'] > 0]\n",
    "df['Margin'] = df['TotalPremium'] - df['TotalClaims']\n",
    "\n",
    "# Data Segmentation\n",
    "# Provinces: Western Cape vs. Gauteng\n",
    "wcape = df[df['Province_Western Cape'] == 1]\n",
    "gauteng = df[df['Province_Gauteng'] == 1]\n",
    "\n",
    "# Zip Codes: Select zip codes with sufficient claim data\n",
    "zip_claims = df_claims.groupby('PostalCode').filter(lambda x: len(x) > 1)  # Filter for valid claim data\n",
    "zip_freq = zip_claims.groupby('PostalCode')['HasClaim'].mean().sort_values()\n",
    "if len(zip_freq) >= 2:\n",
    "    zip_low_code = zip_freq.index[0]  # Lowest claim frequency with claims\n",
    "    zip_high_code = zip_freq.index[-1]  # Highest claim frequency with claims\n",
    "    zip_low = df[df['PostalCode'] == zip_low_code]\n",
    "    zip_high = df[df['PostalCode'] == zip_high_code]\n",
    "else:\n",
    "    print(\"Insufficient zip codes with claims; using all available.\")\n",
    "    zip_low = df[df['PostalCode'] == df['PostalCode'].value_counts().idxmin()]\n",
    "    zip_high = df[df['PostalCode'] == df['PostalCode'].value_counts().idxmax()]\n",
    "\n",
    "# Gender: Female vs. Male\n",
    "female = df[df['Gender_Male'] == 0]\n",
    "male = df[df['Gender_Male'] == 1]\n",
    "\n",
    "# Equivalence Check\n",
    "t_sumins_wc_gauteng = stats.ttest_ind(wcape['SumInsured'].dropna(), gauteng['SumInsured'].dropna(), equal_var=False)\n",
    "print(f'SumInsured equivalence (WC vs Gauteng) p-value: {t_sumins_wc_gauteng.pvalue}')\n"
   ]
  },
  {
   "cell_type": "code",
   "execution_count": null,
   "metadata": {},
   "outputs": [],
   "source": [
    "# Statistical Testing with Error Handling\n",
    "\n",
    "# Provinces\n",
    "prov_data = df[['Province_Free State', 'Province_Gauteng', 'Province_KwaZulu-Natal', 'Province_Limpopo',\n",
    "                'Province_Mpumalanga', 'Province_North West', 'Province_Northern Cape', 'Province_Western Cape']]\n",
    "prov_has_claim = df.loc[prov_data.index, 'HasClaim']\n",
    "prov_contingency = pd.crosstab(prov_data.idxmax(axis=1), prov_has_claim)\n",
    "chi2_prov_freq, p_prov_freq, _, _ = stats.chi2_contingency(prov_contingency) if not prov_contingency.empty and prov_contingency.shape[1] > 1 else (np.nan, np.nan, 0, 0)\n",
    "\n",
    "sev_gauteng = df_claims[df_claims.index.isin(gauteng.index)]['TotalClaims'].dropna()\n",
    "sev_wcape = df_claims[df_claims.index.isin(wcape.index)]['TotalClaims'].dropna()\n",
    "t_sev_prov = stats.ttest_ind(sev_gauteng, sev_wcape, equal_var=False) if len(sev_gauteng) > 1 and len(sev_wcape) > 1 else (np.nan, np.nan)\n",
    "p_sev_prov = t_sev_prov[1] if not np.isnan(t_sev_prov[1]) else np.nan\n",
    "\n",
    "margin_gauteng = df[df.index.isin(gauteng.index)]['Margin'].dropna()\n",
    "margin_wcape = df[df.index.isin(wcape.index)]['Margin'].dropna()\n",
    "t_margin_prov = stats.ttest_ind(margin_gauteng, margin_wcape, equal_var=False) if len(margin_gauteng) > 1 and len(margin_wcape) > 1 else (np.nan, np.nan)\n",
    "p_margin_prov = t_margin_prov[1] if not np.isnan(t_margin_prov[1]) else np.nan\n",
    "\n",
    "# Zip Codes\n",
    "zip_contingency = pd.crosstab(df.loc[zip_low.index.union(zip_high.index), 'PostalCode'], df.loc[zip_low.index.union(zip_high.index), 'HasClaim'])\n",
    "chi2_zip_freq, p_zip_freq, _, _ = stats.chi2_contingency(zip_contingency) if not zip_contingency.empty and zip_contingency.shape[1] > 1 else (np.nan, np.nan, 0, 0)\n",
    "\n",
    "sev_zip_high = df_claims[df_claims.index.isin(zip_high.index)]['TotalClaims'].dropna()\n",
    "sev_zip_low = df_claims[df_claims.index.isin(zip_low.index)]['TotalClaims'].dropna()\n",
    "t_sev_zip = stats.ttest_ind(sev_zip_high, sev_zip_low, equal_var=False) if len(sev_zip_high) > 1 and len(sev_zip_low) > 1 else (np.nan, np.nan)\n",
    "p_sev_zip = t_sev_zip[1] if not np.isnan(t_sev_zip[1]) else np.nan\n",
    "\n",
    "margin_zip_high = df[df.index.isin(zip_high.index)]['Margin'].dropna()\n",
    "margin_zip_low = df[df.index.isin(zip_low.index)]['Margin'].dropna()\n",
    "t_margin_zip = stats.ttest_ind(margin_zip_high, margin_zip_low, equal_var=False) if len(margin_zip_high) > 1 and len(margin_zip_low) > 1 else (np.nan, np.nan)\n",
    "p_margin_zip = t_margin_zip[1] if not np.isnan(t_margin_zip[1]) else np.nan\n",
    "\n",
    "# Gender\n",
    "gender_contingency = pd.crosstab(pd.concat([female['Gender_Male'], male['Gender_Male']]), df.loc[female.index.union(male.index), 'HasClaim'])\n",
    "chi2_gender_freq, p_gender_freq, _, _ = stats.chi2_contingency(gender_contingency) if not gender_contingency.empty and gender_contingency.shape[1] > 1 else (np.nan, np.nan, 0, 0)\n",
    "\n",
    "# Results\n",
    "results = {\n",
    "    'Provinces': {'Claim Frequency': {'p': p_prov_freq}, 'Claim Severity': {'p': p_sev_prov}, 'Margin': {'p': p_margin_prov}},\n",
    "    'Zip Codes': {'Claim Frequency': {'p': p_zip_freq}, 'Claim Severity': {'p': p_sev_zip}, 'Margin': {'p': p_margin_zip}},\n",
    "    'Gender': {'Claim Frequency': {'p': p_gender_freq}}\n",
    "}\n",
    "for feature, metrics in results.items():\n",
    "    for metric, value in metrics.items():\n",
    "        print(f\"{feature} - {metric} p-value: {value['p']:.4f}\")\n",
    "\n",
    "# Sample sizes for debugging\n",
    "print(f\"Gauteng Claims: {len(sev_gauteng)}, WCape Claims: {len(sev_wcape)}\")\n",
    "print(f\"Zip High Claims: {len(sev_zip_high)}, Zip Low Claims: {len(sev_zip_low)}\")\n"
   ]
  },
  {
   "cell_type": "markdown",
   "metadata": {},
   "source": [
    "# Analysis and Report\n",
    "\n",
    "- **Provinces**: \n",
    "  - Claim Frequency p = {p_prov_freq:.4f}, {('fail to reject' if p_prov_freq >= 0.05 else 'reject')} H₀.\n",
    "  - Claim Severity p = {p_sev_prov:.4f}, {('fail to reject' if p_sev_prov >= 0.05 else 'reject')} H₀.\n",
    "  - Margin p = {p_margin_prov:.4f}, {('fail to reject' if p_margin_prov >= 0.05 else 'reject')} H₀.\n",
    "- **Zip Codes**: \n",
    "  - Claim Frequency p = {p_zip_freq:.4f}, {('fail to reject' if p_zip_freq >= 0.05 else 'reject')} H₀.\n",
    "  - Claim Severity p = {p_sev_zip:.4f}, {('fail to reject' if p_sev_zip >= 0.05 else 'reject')} H₀ (if valid data).\n",
    "  - Margin p = {p_margin_zip:.4f}, {('fail to reject' if p_margin_zip >= 0.05 else 'reject')} H₀.\n",
    "- **Gender**: \n",
    "  - Claim Frequency p = {p_gender_freq:.4f}, {('fail to reject' if p_gender_freq >= 0.05 else 'reject')} H₀.\n",
    "\n",
    "# Interpretation & Business Recommendation\n",
    "\n",
    "- **Provinces**: If Claim Severity H₀ is rejected (e.g., p = 0.0306), Gauteng may have higher claim severity, suggesting a premium increase of 5-10% in high-risk provinces.\n",
    "- **Zip Codes**: If Claim Frequency H₀ is rejected (e.g., p = 0.0242), high-claim zip codes may need targeted risk mitigation or higher premiums. Investigate Claim Severity if data becomes available.\n",
    "- **Gender**: If Claim Frequency H₀ is rejected (e.g., p = 0.0198), a gender-based pricing adjustment could be considered, pending regulatory review.\n"
   ]
  }
 ],
 "metadata": {
  "kernelspec": {
   "display_name": "venv",
   "language": "python",
   "name": "python3"
  },
  "language_info": {
   "codemirror_mode": {
    "name": "ipython",
    "version": 3
   },
   "file_extension": ".py",
   "mimetype": "text/x-python",
   "name": "python",
   "nbconvert_exporter": "python",
   "pygments_lexer": "ipython3",
   "version": "3.12.8"
  }
 },
 "nbformat": 4,
 "nbformat_minor": 4
}
